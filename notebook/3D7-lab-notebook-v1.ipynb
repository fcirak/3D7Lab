{
  "nbformat": 4,
  "nbformat_minor": 0,
  "metadata": {
    "colab": {
      "name": "3D7-kimjie.ipynb",
      "provenance": [],
      "collapsed_sections": [
        "gQm9tbI62L9I",
        "UaoQUPWOFc9H",
        "EDyurz82n9w0"
      ],
      "toc_visible": true
    },
    "kernelspec": {
      "display_name": "Python 3",
      "name": "python3"
    }
  },
  "cells": [
    {
      "cell_type": "markdown",
      "metadata": {
        "id": "mZXPNYaABJ3b"
      },
      "source": [
        "# 3D7 Finite element method - laboratory notebook\n",
        "\n",
        "---\n"
      ]
    },
    {
      "cell_type": "markdown",
      "metadata": {
        "id": "gQm9tbI62L9I"
      },
      "source": [
        "## Create a copy before you begin\n",
        "\n",
        "\n",
        "1. Click **Copy to Drive** using the icon on the top to create a copy of this notebook in your Cambridge Google Drive.\n",
        "\n",
        "<img src='https://docs.google.com/uc?export=download&id=1c5aWac_AK4AUA9KvlROIJS9vca0UJUfL' height=150/>\n",
        "\n",
        "2. Click **File > Locate in Drive** to locate your own copy. Rename the notebook appropriately.\n",
        "3. Do not work directly in this original notebook as you will not be able to save in this original notebook.\n",
        "\n"
      ]
    },
    {
      "cell_type": "markdown",
      "metadata": {
        "id": "UaoQUPWOFc9H"
      },
      "source": [
        "## Introduction to Google Colab and Jupyter Notebook\n",
        "\n",
        "We will use [Jupyter Notebook](https://jupyter.org/) hosted by Google Colab for interactive coding. To use this notebook effectively, you must know the following:\n",
        "\n",
        "1. Jupyter Notebook has two types of cell i.e. *text* cell and *code* cell. You can typeset and format a *text* cell to provide information about your codes. *Code* cells are executable using the built-in Python interpreter. Each *code* cell has a \"Play\" icon on its left. To execute a *code* cell, either click the \"Play\" button or press \"Shift\" + \"Enter\" with your keyboard.\n",
        "2. Google Colab has a built-in Python interpreter and runs on Ubuntu OS. Any Python packages that you install here stay in the cloud. Each time you close and reopen this Notebook, you have to run again all *code* cells including the cells that install the Python packages.\n",
        "3. Always run *code* cells sequentially i.e. from top to bottom. After you execute successfully a *code* cell, a green tick and a number e.g. [1] or [2] indicating the execution sequence will appear on its left.\n",
        "4. Save your notebook by clickling **File > Save** or using the keyboard shortcut \"Ctrl\" + \"s\".\n",
        "5. After running a *code* cell, if you wish to clear the output, you can click the cell, then hover your mouse to the top right of the cell and find **More cell actions > Clear output**. Clearing the output helps keep your notebook organised especially for *code* cells that install Python packages.\n",
        "6. If you wish to clear all Python variables so that the notebook returns to the initial state, click **Runtime > Factory reset runtime**. This should save you time from closing and re-opening your notebook.\n",
        "7. You can always re-create a copy from the original notebook should you run into bugs that you cannot fix.\n",
        "8. There is a table of contents on the left to help you navigate the notebook.\n",
        "\n",
        "More information about Google Colab can be found in [Google Colab's Frequently Asked Questions](https://research.google.com/colaboratory/faq.html)."
      ]
    },
    {
      "cell_type": "markdown",
      "metadata": {
        "id": "EDyurz82n9w0"
      },
      "source": [
        "## Summary of tasks\n",
        "\n",
        "The following summarises the tasks that you should undertake for your lab investigation. These tasks are designed to help you understand and should not be treated as a guide to your report. Please refer to the guide in the lab handout for writing your report.\n",
        "\n",
        "*   **TASK 1**: Investigate the effect of mesh refinement on the convergence of the finite element result.\n",
        "*   **TASK 2**: Investigate how to implement the weak form if the prescribed traction is changed to prescribed displacement on the rightmost edge of the strip.\n",
        "*   **TASK 3**: State two factors that can increase the number of degrees of freedom i.e. the size of the assembled finite element linear system.\n",
        "*   **TASK 4**: Examine the relationship between the magnitude of the applied traction and the resulting stress field.\n",
        "\n",
        "Each task will be further elaborated at the appropriate locations of this notebook. As you work through the notebook, watch for the tags **TASK # guide** and read the elaborated description."
      ]
    },
    {
      "cell_type": "markdown",
      "metadata": {
        "id": "ltXaWm63oEF8"
      },
      "source": [
        "# Step 1. Install [FEniCS](https://fenicsproject.org/)\n",
        "\n",
        "FEniCS is an open-source finite element package with a Python interface. Run the following cell to install FEniCS on Google Colab:"
      ]
    },
    {
      "cell_type": "code",
      "source": [
        "try:\n",
        "    import dolfin\n",
        "except ImportError:\n",
        "    !wget \"https://fem-on-colab.github.io/releases/fenics-install.sh\" -O \"/tmp/fenics-install.sh\" && bash \"/tmp/fenics-install.sh\"\n",
        "    import dolfin"
      ],
      "metadata": {
        "id": "uHp46CEB6VIZ"
      },
      "execution_count": null,
      "outputs": []
    },
    {
      "cell_type": "markdown",
      "metadata": {
        "id": "IWmWwCf8ozrg"
      },
      "source": [
        "# Step 2. Install [Gmsh](https://gmsh.info/)\n",
        "\n",
        "Gmsh is an open source finite element mesh generator with built-in computer-aided design (CAD) engine. You can create a geometry and subsequently mesh the geometry. Gmsh has a grahics user interface and a Python interface. In this notebook, we will be using Gmsh's Python interface."
      ]
    },
    {
      "cell_type": "code",
      "metadata": {
        "id": "inNUKfsDxwuX"
      },
      "source": [
        "!pip3 install gmsh==4.7.0\n",
        "import sys\n",
        "sys.path += ['/usr/local/lib/python3.7/site-packages/gmsh-4.7.0-Linux64-sdk/lib']"
      ],
      "execution_count": null,
      "outputs": []
    },
    {
      "cell_type": "markdown",
      "metadata": {
        "id": "M9JX5cW0odZ7"
      },
      "source": [
        "# Step 3. Create and mesh the geometry\n",
        "\n",
        "We first create the geometry. The geometry is a quarter of a strip in $\\mathbb{R}^2$, see Figure 1 in the labaratory handout for the geometric parameters. Subsequently, we use Gmsh's built-in mesher to help us mesh the geometry."
      ]
    },
    {
      "cell_type": "code",
      "metadata": {
        "id": "Nii48AED4lia"
      },
      "source": [
        "# Import some packages: gmsh, the sys package to allow command line commands to be executed from the Python interpreter and the math package\n",
        "import gmsh\n",
        "import sys\n",
        "import math\n",
        "\n",
        "# Initialise gmsh\n",
        "gmsh.initialize(sys.argv)\n",
        "# Ask gmsh to display information in the terminal\n",
        "gmsh.option.setNumber(\"General.Terminal\", 1)\n",
        "# Select the gmsh file format\n",
        "gmsh.option.setNumber(\"Mesh.MshFileVersion\", 2.0)\n",
        "\n",
        "# Create a model and name it \"PlateSymmetric\"\n",
        "model = gmsh.model\n",
        "model.add(\"PlateSymmetric\")\n",
        "\n",
        "# Define the parameters\n",
        "L = 150;  # half-length of the plate\n",
        "w = 50;   # half-width of the plate\n",
        "r = 14.8; # radius of the hole\n",
        "hmin = 8; # min element size\n",
        "hmax = 8; # max element size\n",
        "\n",
        "# Create Points to define the mesh geometry\n",
        "holecenter        = model.geo.addPoint(0, 0, 0, hmin, 1)\n",
        "holeedge1         = model.geo.addPoint(r, 0, 0, hmin, 2)\n",
        "bottomrightcorner = model.geo.addPoint(L, 0, 0, hmax, 3)\n",
        "toprightcorner    = model.geo.addPoint(L, w, 0, hmax, 4)\n",
        "topleftcorner     = model.geo.addPoint(0, w, 0, hmax, 5)\n",
        "holeedge2         = model.geo.addPoint(0, r, 0, hmin, 6)\n",
        "\n",
        "# Create straight lines\n",
        "lines = []\n",
        "lines.append(model.geo.addLine(2, 3, 1))\n",
        "lines.append(model.geo.addLine(3, 4, 2))\n",
        "lines.append(model.geo.addLine(4, 5, 3))\n",
        "lines.append(model.geo.addLine(5, 6, 4))\n",
        "\n",
        "# Create a circle arc\n",
        "lines.append(model.geo.addCircleArc(6, 1, 2))\n",
        "# Define a curve loop by combining the lines and the circle arc\n",
        "curveloop = model.geo.addCurveLoop([1,2,3,4,5])\n",
        "# Define a surface inside the curve loop\n",
        "disk = model.geo.addPlaneSurface([curveloop])\n",
        "\n",
        "# Synchronize the CAD kernel with the gmsh model\n",
        "gmsh.model.geo.synchronize()\n",
        "# Create the 2D mesh\n",
        "model.mesh.generate(2)\n",
        "# Write the mesh in a .msh file\n",
        "gmsh.write(\"mesh.msh\")\n",
        "# Finalize gmsh\n",
        "gmsh.finalize()"
      ],
      "execution_count": null,
      "outputs": []
    },
    {
      "cell_type": "markdown",
      "metadata": {
        "id": "_mMKW7Ka84zd"
      },
      "source": [
        "> **TASK 1 guide**: Notice the parameters *hmin* and *hmax* in the cell above. Adjust these parameters to investigate the effect of coarsening/ refining the finite element mesh."
      ]
    },
    {
      "cell_type": "markdown",
      "metadata": {
        "id": "5OZDILjW8PJD"
      },
      "source": [
        "After meshing the geometry it is important to visualise the mesh. FEniCS provides the utility to visualise the mesh. To this end, we convert the Gmsh file format (.msh) into FEniCS file format (.xml) using *meshconvert*."
      ]
    },
    {
      "cell_type": "code",
      "metadata": {
        "id": "awvAD5bmdLlG"
      },
      "source": [
        "from fenics import *\n",
        "from dolfin_utils.meshconvert import meshconvert\n",
        "meshconvert.convert2xml(\"mesh.msh\", \"mesh2.xml\", \"gmsh\")"
      ],
      "execution_count": null,
      "outputs": []
    },
    {
      "cell_type": "markdown",
      "metadata": {
        "id": "09btVc828lLg"
      },
      "source": [
        "Eventually, we read the .xml file within FEniCS to visualise the mesh."
      ]
    },
    {
      "cell_type": "code",
      "metadata": {
        "id": "6jVJF-rMppbt"
      },
      "source": [
        "mesh = Mesh(\"mesh2.xml\")\n",
        "plot(mesh, title=\"Finite element mesh\")"
      ],
      "execution_count": null,
      "outputs": []
    },
    {
      "cell_type": "markdown",
      "metadata": {
        "id": "7oNc1FhMEd1U"
      },
      "source": [
        "> **TASK 1 guide**: As you change the parameters *hmin* and *hmax* above, remember to visualise again the mesh.\n",
        "\n"
      ]
    },
    {
      "cell_type": "markdown",
      "metadata": {
        "id": "DO4DH8vVgUCk"
      },
      "source": [
        "Each triangular cell that you see is an element. We can query the number of elements in the mesh."
      ]
    },
    {
      "cell_type": "code",
      "metadata": {
        "id": "2I8uVfnxgSes"
      },
      "source": [
        "print(mesh.num_cells())"
      ],
      "execution_count": null,
      "outputs": []
    },
    {
      "cell_type": "markdown",
      "metadata": {
        "id": "FfmrBrhKoi9H"
      },
      "source": [
        "# Step 4. Define the elasticity problem"
      ]
    },
    {
      "cell_type": "markdown",
      "metadata": {
        "id": "L_0ekK9C9Unz"
      },
      "source": [
        "We will now setup the elasticity problem by finite element discretising the weak form that we have derived. First, we prescribe the applied stress. The applied stress is the total applied force ($10 \\times 10^3$ N) divided by the cross-sectional area of the strip ($100$ mm $\\times$ $1.7$ mm)."
      ]
    },
    {
      "cell_type": "code",
      "metadata": {
        "id": "mE76dEdapF3M"
      },
      "source": [
        "applied_stress = 58             # applied normal stress (N/mm^2)"
      ],
      "execution_count": null,
      "outputs": []
    },
    {
      "cell_type": "markdown",
      "metadata": {
        "id": "wVKM_1ci91H5"
      },
      "source": [
        "To specify the constitutive i.e. material behaviour, we prescribe the elastic constants i.e. Young's modulus $E$ and Poisson's ratio $ν$ which are given in the handout."
      ]
    },
    {
      "cell_type": "code",
      "metadata": {
        "id": "UuEjDP3ZrN5w"
      },
      "source": [
        "E  = Constant(70000)            # Young's modulus (MPa i.e. N/mm^2)\n",
        "nu = Constant(0.33)             # Poisson's ratio"
      ],
      "execution_count": null,
      "outputs": []
    },
    {
      "cell_type": "markdown",
      "metadata": {
        "id": "AJuBcARvAsha"
      },
      "source": [
        "We assume the plane stress condition. To this end, we define the corresponding 2D stress $\\sigma$ and strain $ɛ$ components. Note that the 2D stress and strain tensor components are stored in matrices instead of vectors."
      ]
    },
    {
      "cell_type": "code",
      "metadata": {
        "id": "1XTbHLkkrrzd"
      },
      "source": [
        "def eps(v):\n",
        "    return sym(grad(v))"
      ],
      "execution_count": null,
      "outputs": []
    },
    {
      "cell_type": "code",
      "source": [
        "def sigma(v):\n",
        "    return (E*nu/(1.0-nu*nu))*tr(eps(v))*Identity(2) + (E/(1.0+nu))*eps(v)"
      ],
      "metadata": {
        "id": "5ulv0nwoSHdV"
      },
      "execution_count": null,
      "outputs": []
    },
    {
      "cell_type": "markdown",
      "metadata": {
        "id": "1pho7ZfY-qRw"
      },
      "source": [
        "We now define the traction (i.e. natural or Neumann) boundary condition. Recall that the traction is the stress that we apply along the rightmost edge of the strip. We first obtain all boundary nodes of the mesh. We then mark if those nodes rest on the traction boundary (1 if true, 0 else). Finally, we define a boundary integral to compute the traction term."
      ]
    },
    {
      "cell_type": "code",
      "metadata": {
        "id": "EIQ5EerH-tHZ"
      },
      "source": [
        "# return true if a vertex is on the right-hand side edge of the strip (x=L)\n",
        "class IsTractionBoundary(SubDomain):\n",
        "    def inside(self, x, on_boundary):\n",
        "\t\t    return near(x[0], L)\n",
        "# get all boundary nodes and apply a scalar function over these vertices\n",
        "mesh_boundary_bool = MeshFunction(\"size_t\", mesh, mesh.topology().dim()-1)\n",
        "# initialise all boundary nodes as 0\n",
        "mesh_boundary_bool.set_all(0)\n",
        "# set boundary nodes that rest on the rightmost edge as 1\n",
        "IsTractionBoundary().mark(mesh_boundary_bool, 1)\n",
        "# we define a surface integral based on this function\n",
        "ds = Measure(\"ds\")(subdomain_data=mesh_boundary_bool)"
      ],
      "execution_count": null,
      "outputs": []
    },
    {
      "cell_type": "markdown",
      "metadata": {
        "id": "91PmC69G96MF"
      },
      "source": [
        "We now proceed to implement the weak form in FEniCS. Recall that the weak form is given by\n",
        "\n",
        ">$$ \\int_\\Omega (\\mathbf{\\nabla}_S \\mathbf w)^T \\mathbf{\\sigma} (\\mathbf u) \\, d\\Omega = \\int_{\\Gamma_t} \\mathbf w^T \\overline{\\mathbf t} \\, d \\Gamma_t   $$\n",
        "\n",
        "where $\\Omega$ is the domain, $\\Gamma_t$ is the traction boundary (in this case, the rightmost edge of the strip), $\\mathbf{w}=\\left[w_x\\, w_y\\right]^T$ is the vector of test functions, $\\mathbf{\\nabla}_S$ is the matrix of gradient operations, $ \\mathbf{\\sigma} = \\left[\\sigma_{xx}\\, \\sigma_{yy} \\, \\sigma_{xy} \\right]^T$ is the stress vector and $ \\overline{\\mathbf t} = \\left[\\overline{ t}_x\\,\\,\\overline{ t}_y \\right]^T$ is the applied traction vector. Once again, note that in the current implementation, the stress and strain components are stored in matrices instead of vectors."
      ]
    },
    {
      "cell_type": "code",
      "metadata": {
        "id": "7Rlt-nwksfhK"
      },
      "source": [
        "s  = Constant((applied_stress, 0.0))                 # vector of applied stress\n",
        "V  = VectorFunctionSpace(mesh, 'Lagrange', degree=2) # shape functions\n",
        "u_ = TrialFunction(V)                                # trial function\n",
        "w_ = TestFunction(V)                                 # test function\n",
        "a  = inner(sigma(u_), eps(w_))*dx                    # internal virtual work\n",
        "l  = inner(s, w_)*ds(1)                              # external virtual work"
      ],
      "execution_count": null,
      "outputs": []
    },
    {
      "cell_type": "markdown",
      "metadata": {
        "id": "JcoUczNRAg7j"
      },
      "source": [
        "Next, we define the displacement (i.e. essential or Dirichlet) boundary conditions."
      ]
    },
    {
      "cell_type": "code",
      "metadata": {
        "id": "oH0I_PikAfF-"
      },
      "source": [
        "# return true if the node is on the leftmost edge\n",
        "def is_on_left(x, on_boundary):\n",
        "    return near(x[0], 0.)\n",
        "\n",
        "# return true if the node is on the bottom edge\n",
        "def is_on_bottom(x, on_boundary):\n",
        "    return near(x[1], 0.)\n",
        "\n",
        "# return true if the node is on the rightmost edge\n",
        "def is_on_right(x, on_boundary):\n",
        "\t\treturn near(x[0], L)\n",
        "\n",
        "# we define the relevant essential boundary condition on the bottom and left-hand edge of the domain\n",
        "bcx = DirichletBC(V.sub(0), Constant((0.)), is_on_left)\n",
        "bcy = DirichletBC(V.sub(1), Constant((0.)), is_on_bottom)\n",
        "bc = [bcx, bcy]"
      ],
      "execution_count": null,
      "outputs": []
    },
    {
      "cell_type": "markdown",
      "metadata": {
        "id": "JwSavZB0ENR4"
      },
      "source": [
        "> **TASK 2 guide**: If you prescribe a positive displacement on the rightmost edge instead of the prescribed traction, what do you need to change? Hints:\n",
        "1.   Uncomment and experiment with the code below.\n",
        "2.   Recall that on the same region, displacement and traction cannot be prescribed at the same time.\n"
      ]
    },
    {
      "cell_type": "code",
      "source": [
        "# displacement = 0.5                  \n",
        "# bc_displacement = DirichletBC(V.sub(0), Constant((displacement)), is_on_right)\n",
        "# bc = [bcx, bcy, bc_displacement]                                     "
      ],
      "metadata": {
        "id": "IPmtn26cA1_A"
      },
      "execution_count": null,
      "outputs": []
    },
    {
      "cell_type": "markdown",
      "metadata": {
        "id": "YYaD7lpAopav"
      },
      "source": [
        "# Step 5. Solve the linear system"
      ]
    },
    {
      "cell_type": "markdown",
      "metadata": {
        "id": "snzdYBZP-DIN"
      },
      "source": [
        "We arrive at a linear system as a result of discretising the weak form. We solve the linear system using a linear solver provided by FEniCS."
      ]
    },
    {
      "cell_type": "code",
      "metadata": {
        "id": "okpOoCPDsiIA"
      },
      "source": [
        "u = Function(V, name=\"Displacement\")\n",
        "solve(a == l, u, bc)"
      ],
      "execution_count": null,
      "outputs": []
    },
    {
      "cell_type": "markdown",
      "metadata": {
        "id": "OORSUMCl-AYk"
      },
      "source": [
        "We examine qualitatively the finite element solution by visualising the displacement field."
      ]
    },
    {
      "cell_type": "code",
      "metadata": {
        "id": "qAlotKqksyUt"
      },
      "source": [
        "plot(u, mode=\"displacement\")"
      ],
      "execution_count": null,
      "outputs": []
    },
    {
      "cell_type": "markdown",
      "metadata": {
        "id": "gBcTjLtJR_OL"
      },
      "source": [
        "Let us print the size of the displacement vector which is the number of degrees of freedom."
      ]
    },
    {
      "cell_type": "code",
      "metadata": {
        "id": "Hc7Tycu0Ri_G"
      },
      "source": [
        "u.vector()[:].size"
      ],
      "execution_count": null,
      "outputs": []
    },
    {
      "cell_type": "markdown",
      "metadata": {
        "id": "N2oxogEOJQRg"
      },
      "source": [
        "\n",
        "\n",
        "> **TASK 3 guide** The higher the number of degrees of freedom, the more computationally expensive the linear system is. Can you state two factors that affect the number of degrees of freedom? Hints:\n",
        "1.   Experiment with the number of elements.\n",
        "2.   Experiment with the polynomial degree of the Lagrange shape functions.\n",
        "\n",
        "\n"
      ]
    },
    {
      "cell_type": "markdown",
      "metadata": {
        "id": "aiP5bKUbovJ5"
      },
      "source": [
        "#Step 6. Interpret analysis result"
      ]
    },
    {
      "cell_type": "markdown",
      "metadata": {
        "id": "qPvKghA1-F4E"
      },
      "source": [
        "Finite element result is more than just colourful plots. We must interpret the results carefully. Here, we will use two Python modules namely [matplotlib](https://matplotlib.org/) for plotting and [numpy](https://numpy.org/) for linear algebra operations.\n",
        "\n",
        "First, we evaluate the stress components near the vicinity of the hole."
      ]
    },
    {
      "cell_type": "code",
      "metadata": {
        "id": "UD7kYpuHtYEV"
      },
      "source": [
        "Vsig = TensorFunctionSpace(mesh, \"DG\", degree=1) # define finite element interpolation for the stress\n",
        "sig = Function(Vsig, name=\"Stress\")              # define stress function\n",
        "sig.assign(project(sigma(u), Vsig))              # project sigma(u) onto the corresponding basis of shape functions\n",
        "R = 14.8                                         # hole radius (mm)\n",
        "print(\"Stress at (0,R):\", sig(0.001, R+0.001))   # print the stress in the vicinity of the hole"
      ],
      "execution_count": null,
      "outputs": []
    },
    {
      "cell_type": "markdown",
      "metadata": {
        "id": "WnSFtNEkKV_6"
      },
      "source": [
        "Next, we plot the normal stress component $\\sigma_{xx}$."
      ]
    },
    {
      "cell_type": "code",
      "metadata": {
        "id": "z3SWO0eOxAnm"
      },
      "source": [
        "from matplotlib import pyplot\n",
        "stressplot = plot(sig[0, 0], wireframe=True, title=\"sigma_xx\") \n",
        "pyplot.colorbar(stressplot)"
      ],
      "execution_count": null,
      "outputs": []
    },
    {
      "cell_type": "markdown",
      "metadata": {
        "id": "d5kiQieELBBR"
      },
      "source": [
        "> **TASK 4 guide**: What do you notice from the above stress field? Does the spatial variation of the stress depend on the magnitude of the applied traction? Hint: increase the applied traction and visualise again the stress field."
      ]
    },
    {
      "cell_type": "markdown",
      "metadata": {
        "id": "N6zVdW-BLVFx"
      },
      "source": [
        "We now rescale the stress by the magnitude of the horizontal stress near the rightmost edge of the strip. Hence, we can estimate the stress concentration factor over the entire domain."
      ]
    },
    {
      "cell_type": "code",
      "metadata": {
        "id": "fmajJUqZGO43"
      },
      "source": [
        "sigma0 = sig(L, 0)[0]                               # define the horizontal stress near the rightmost edge of the strip\n",
        "print(sigma0)                                       # check if this agrees with the traction boundary condition\n",
        "sig_rescaled = Function(Vsig, name=\"Stress\")\n",
        "sig_rescaled.assign(project(sigma(u)/sigma0, Vsig)) # define the rescaled stress"
      ],
      "execution_count": null,
      "outputs": []
    },
    {
      "cell_type": "markdown",
      "metadata": {
        "id": "fTIkyhTO-Ngr"
      },
      "source": [
        "We plot some profiles of the stress concentration factor in the domain.\n",
        "\n",
        "> Do not use these plots directly in your report. The plots here are only for initial qualitative check. You should follow Step 7 below to export the results so that you can create plots for your report.\n",
        "\n",
        "\n"
      ]
    },
    {
      "cell_type": "code",
      "metadata": {
        "id": "G7RgmnrL2z9G"
      },
      "source": [
        "# we import the numpy and math packages.\n",
        "import numpy as np \n",
        "import math\n",
        "# we define sets of horizontal and vertical coordinates\n",
        "w = 50                              # plate half width (mm)\n",
        "L = 150.                            # plate half length (mm)\n",
        "n=math.floor(w/4)\n",
        "x = np.linspace(R+0.01,L,n)\n",
        "y = np.linspace(R+0.01,w,n)"
      ],
      "execution_count": null,
      "outputs": []
    },
    {
      "cell_type": "code",
      "metadata": {
        "id": "qELH2VraH9IX"
      },
      "source": [
        "# we define horizontal and vertical rescaled stress profile along the leftmost and bottom edge of the domain\n",
        "sig_xx_horizontalprofile = [sig_rescaled(xi, 0.)[0] for xi in x]\n",
        "sig_xx_verticalprofile = [sig_rescaled(0., yi)[0] for yi in y]\n",
        "sig_yy_horizontalprofile = [sig_rescaled(xi, 0.)[3] for xi in x]\n",
        "sig_yy_verticalprofile = [sig_rescaled(0., yi)[3] for yi in y]"
      ],
      "execution_count": null,
      "outputs": []
    },
    {
      "cell_type": "code",
      "metadata": {
        "id": "t0Ad4WhZJFMI"
      },
      "source": [
        "# we plot the rescaled stress profiles along the bottom edge of the domain (y=0)\n",
        "import matplotlib.pyplot as plt\n",
        "plt.plot(x,sig_yy_horizontalprofile,'bo',label='sigma_yy/sigma0')\n",
        "plt.plot(x,sig_xx_horizontalprofile,'ro',label='sigma_xx/sigma0')\n",
        "plt.ylabel(\"rescaled stress\")\n",
        "plt.xlabel(\"distance center of the hole (mm)\")\n",
        "plt.title(\"rescaled stresses at y=0\")\n",
        "plt.legend()"
      ],
      "execution_count": null,
      "outputs": []
    },
    {
      "cell_type": "code",
      "metadata": {
        "id": "6twNuIH_a_gH"
      },
      "source": [
        "# we plot the rescaled stress profiles along the leftmost edge (x=0)\n",
        "import matplotlib.pyplot as plt\n",
        "plt.plot(y,sig_yy_verticalprofile,'bo',label='sigma_yy/sigma0')\n",
        "plt.plot(y,sig_xx_verticalprofile,'ro',label='sigma_xx/sigma0')\n",
        "plt.ylabel(\"rescaled stress\")\n",
        "plt.xlabel(\"distance center of the hole (mm)\")\n",
        "plt.title(\"rescaled stresses at x=0\")\n",
        "plt.legend()"
      ],
      "execution_count": null,
      "outputs": []
    },
    {
      "cell_type": "code",
      "metadata": {
        "id": "j-BddMHcKIuD"
      },
      "source": [
        "# we plot the rescaled stress along the rightmost edge and check if the value is equal to 1\n",
        "bcsy = [sig_rescaled(L, yi)[0] for yi in y]\n",
        "plt.plot(y,bcsy,'ro',label='sigma_xx/sigma0')\n",
        "plt.ylabel(\"rescaled stress\")\n",
        "plt.xlabel(\"distance center of the plate (mm)\")\n",
        "plt.title(\"rescaled sigma_xx at x=L\")\n",
        "plt.ylim(0.5,1.5)\n",
        "plt.legend()"
      ],
      "execution_count": null,
      "outputs": []
    },
    {
      "cell_type": "markdown",
      "metadata": {
        "id": "aA4L0MOppHI8"
      },
      "source": [
        "# Step 7. Exporting result for post-processing"
      ]
    },
    {
      "cell_type": "markdown",
      "metadata": {
        "id": "4PqdP8BqNkgQ"
      },
      "source": [
        "After examining qualitatively our numerical results, we need to quantify the accuracy of the finite element approximation. To this end, export your results so that you can post-process using a third-party software of your choice such as Matlab, Python and Excel."
      ]
    },
    {
      "cell_type": "markdown",
      "metadata": {
        "id": "k1txn8AAXV1r"
      },
      "source": [
        "## Step 7a. Mount your google drive and export results\n",
        "\n",
        "To export the results, we first need to authorise your Cambridge Google Account. Make sure that you use the same Cambridge Google Account. Overall, the steps are:\n",
        "\n",
        "1. Run the *code* cell below. A message will pop up.\n",
        "2. Click **Connect to Google Drive**.\n",
        "3. Select which Google account to proceed. Choose your Cambridge Google account."
      ]
    },
    {
      "cell_type": "code",
      "metadata": {
        "id": "fqiCALNeX8yi"
      },
      "source": [
        "from google.colab import drive\n",
        "drive.mount('/content/drive')"
      ],
      "execution_count": null,
      "outputs": []
    },
    {
      "cell_type": "markdown",
      "metadata": {
        "id": "RXeQ2wm2OUf6"
      },
      "source": [
        "Next, create a folder with the name **3D7** in your Google Drive. After that, run the following *code* cell to go to the folder directory."
      ]
    },
    {
      "cell_type": "code",
      "metadata": {
        "id": "_2885oraCec3"
      },
      "source": [
        "%cd /content/drive/My\\ Drive/3D7"
      ],
      "execution_count": null,
      "outputs": []
    },
    {
      "cell_type": "markdown",
      "metadata": {
        "id": "LfrK4jJzOjlH"
      },
      "source": [
        "You can now save your rescaled stress profiles as .txt files. The block of code below will create two files. Each of these files has two rows. The first row contains the vector of $x$ coordinates in mm whereas the second contains the rescaled stress."
      ]
    },
    {
      "cell_type": "code",
      "metadata": {
        "id": "L7KNiAopYKk9"
      },
      "source": [
        "import numpy as np\n",
        "np.savetxt(\"stress-yy.txt\", (x,sig_yy_horizontalprofile))\n",
        "np.savetxt(\"stress-xx.txt\", (x,sig_xx_horizontalprofile))"
      ],
      "execution_count": null,
      "outputs": []
    },
    {
      "cell_type": "markdown",
      "metadata": {
        "id": "CIsht4YCPydB"
      },
      "source": [
        "You can use the list command in Ubuntu shell to see if the files have been created."
      ]
    },
    {
      "cell_type": "code",
      "metadata": {
        "id": "DyD-sld4pj8l"
      },
      "source": [
        "!ls"
      ],
      "execution_count": null,
      "outputs": []
    },
    {
      "cell_type": "markdown",
      "metadata": {
        "id": "Flhyu8ZAQANU"
      },
      "source": [
        "# Step 8. Additional post-processing methods"
      ]
    },
    {
      "cell_type": "markdown",
      "metadata": {
        "id": "RYSRy7lsQGzD"
      },
      "source": [
        "You are now able to post-process your results externally. The following provides additional guideline for post-processing your finite element result."
      ]
    },
    {
      "cell_type": "markdown",
      "metadata": {
        "id": "6XsB6DqlWyWN"
      },
      "source": [
        "## Step 8a. Compute the norm of error"
      ]
    },
    {
      "cell_type": "markdown",
      "metadata": {
        "id": "N-lv0C9ERmUg"
      },
      "source": [
        "FEniCS has built-in functions to compute errors in different norms. Here, let us compare the finite element error between a coarse mesh and a refined mesh. More details can be found in the FEniCS article [Postprocessing computations](https://fenicsproject.org/pub/tutorial/html/._ftut1020.html) (see the section *Computing convergence rates*.)"
      ]
    },
    {
      "cell_type": "markdown",
      "metadata": {
        "id": "VtNxY_GASPip"
      },
      "source": [
        "> In order to execute the following cells, you must first save results using (i) a coarse mesh and (ii) a fine mesh. For each mesh, save the mesh file and the computed nodal displacements using the cell below. You should rename the files accordingly to align with the cell below.\n",
        "\n"
      ]
    },
    {
      "cell_type": "code",
      "metadata": {
        "id": "ak-JHcHLBJ10"
      },
      "source": [
        "f_out = XDMFFile(\"u_coarse.xdmf\") \n",
        "f_out.write_checkpoint(project(u, V), \"Displacement\", 0, XDMFFile.Encoding.HDF5, False) \n",
        "mesh_file = File(\"mesh_coarse.xml\")\n",
        "mesh_file << mesh"
      ],
      "execution_count": null,
      "outputs": []
    },
    {
      "cell_type": "markdown",
      "metadata": {
        "id": "1F6mGYhwS2xQ"
      },
      "source": [
        "For each mesh, we will open the mesh file and the nodal displacements file."
      ]
    },
    {
      "cell_type": "code",
      "metadata": {
        "id": "378u_waw_UT1"
      },
      "source": [
        "mesh = Mesh(\"mesh_coarse.xml\")\n",
        "V = VectorFunctionSpace(mesh, 'Lagrange', degree=2)\n",
        "u_coarse = Function(V)\n",
        "f_in =  XDMFFile(\"u_coarse.xdmf\")\n",
        "f_in.read_checkpoint(u_coarse,\"Displacement\",0)"
      ],
      "execution_count": null,
      "outputs": []
    },
    {
      "cell_type": "code",
      "metadata": {
        "id": "KPnsWTOnTSKa"
      },
      "source": [
        "meshfine = Mesh(\"mesh_fine.xml\")\n",
        "Vfine = VectorFunctionSpace(meshfine, 'Lagrange', degree=2)\n",
        "u_fine = Function(Vfine)\n",
        "f_in =  XDMFFile(\"u_fine.xdmf\")\n",
        "f_in.read_checkpoint(u_fine,\"Displacement\",0)"
      ],
      "execution_count": null,
      "outputs": []
    },
    {
      "cell_type": "markdown",
      "metadata": {
        "id": "FtbdA29HTZMi"
      },
      "source": [
        "Let us plot and compare the displacement field between the two meshes."
      ]
    },
    {
      "cell_type": "code",
      "metadata": {
        "id": "qpBIWLpLA-DT"
      },
      "source": [
        "plot(u_fine)"
      ],
      "execution_count": null,
      "outputs": []
    },
    {
      "cell_type": "code",
      "metadata": {
        "id": "wztEQYiGVW2M"
      },
      "source": [
        "plot(u_coarse)"
      ],
      "execution_count": null,
      "outputs": []
    },
    {
      "cell_type": "markdown",
      "metadata": {
        "id": "dQdAe60GTfPK"
      },
      "source": [
        "Next, we extrapolate the coarse displacement on the fine mesh."
      ]
    },
    {
      "cell_type": "code",
      "metadata": {
        "id": "ML695Q_3Uqbm"
      },
      "source": [
        "u_coarse.set_allow_extrapolation(True)\n",
        "u_interp_coarse = interpolate(u_coarse,Vfine)"
      ],
      "execution_count": null,
      "outputs": []
    },
    {
      "cell_type": "markdown",
      "metadata": {
        "id": "wRi_-chhTv0G"
      },
      "source": [
        "We can visualise both displacement fields to examine the difference, if any."
      ]
    },
    {
      "cell_type": "code",
      "metadata": {
        "id": "A6wtwABvVoI9"
      },
      "source": [
        "plot(inner(u_fine-u_interp_coarse,u_fine-u_interp_coarse))"
      ],
      "execution_count": null,
      "outputs": []
    },
    {
      "cell_type": "markdown",
      "metadata": {
        "id": "8558nFOogqnw"
      },
      "source": [
        "Next, we compute the relative norm of error."
      ]
    },
    {
      "cell_type": "code",
      "metadata": {
        "id": "AJhNEA7NWexZ"
      },
      "source": [
        "u_interp_coarse.set_allow_extrapolation(True)\n",
        "Error = errornorm(u_fine,u_interp_coarse)\n",
        "Relativeerror = Error/norm(u_fine)"
      ],
      "execution_count": null,
      "outputs": []
    },
    {
      "cell_type": "markdown",
      "metadata": {
        "id": "ij3yTKo1UQEj"
      },
      "source": [
        "To determine the convergence rate, you can further refine the mesh and compute the finite element error. Ideally, the finite element error is computed using a known analytical solution. Since there is no analytical solution for the above problem, we use here the finite element solution obtained with a very fine mesh as the reference solution. In practice, you should, of course, assess the reference solution carefully if there is no analytical solution or experimental reference."
      ]
    },
    {
      "cell_type": "markdown",
      "metadata": {
        "id": "g0M4mRF_pVH-"
      },
      "source": [
        "## Step 8b. Load and plot results"
      ]
    },
    {
      "cell_type": "markdown",
      "metadata": {
        "id": "k9T35z1FVHuq"
      },
      "source": [
        "The following briefly demonstrates how to load the results from your Google Drive and compare against the analytical solution. Note that here we assume that the domain is infinite so that the analyical solution is known.\n",
        "\n",
        "> You should not simply copy and paste the following plots for your report as the following is demonstrative only."
      ]
    },
    {
      "cell_type": "code",
      "metadata": {
        "id": "CyWLDVClhVLX"
      },
      "source": [
        "# we define a fine set of horizontal coordinates\n",
        "x_fine = np.linspace(R+0.01,L,1000)\n",
        "# we define the analytical prediction for sigma_xx for the infinite plate case\n",
        "stress_xx_theoretical=np.ones(x_fine.shape[0])-5*R*R/(2*np.power(x_fine,2))+3*np.power(R,4)/(2*np.power(x_fine,4))"
      ],
      "execution_count": null,
      "outputs": []
    },
    {
      "cell_type": "code",
      "metadata": {
        "id": "n0U5HYIwi1W4"
      },
      "source": [
        "# we plot the analytical solution and the finite element simulation for the rescaled sigma_xx along the bottom boundary of the domain (y=0)\n",
        "stress_xx = np.loadtxt(\"stress-xx.txt\")\n",
        "stress_yy = np.loadtxt(\"stress-yy.txt\")\n",
        "plt.plot(stress_xx[0],stress_xx[1],'bo',label=\"finite element result: sigma_xx/sigma0\")\n",
        "plt.plot(x_fine,stress_xx_theoretical,'r-',label=\"theoretical infinite plate prediction\")\n",
        "plt.ylabel(\"rescaled stress\")\n",
        "plt.xlabel(\"distance center of the hole (mm)\")\n",
        "plt.title(\"rescaled stress profile at y=0\")\n",
        "plt.legend()"
      ],
      "execution_count": null,
      "outputs": []
    }
  ]
}