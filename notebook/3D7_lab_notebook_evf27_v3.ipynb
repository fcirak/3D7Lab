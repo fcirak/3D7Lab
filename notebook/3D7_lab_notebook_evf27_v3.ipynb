{
  "nbformat": 4,
  "nbformat_minor": 0,
  "metadata": {
    "colab": {
      "name": "3D7-lab-notebook-evf27-rev1.ipynb",
      "provenance": [],
      "collapsed_sections": [],
      "toc_visible": true
    },
    "kernelspec": {
      "display_name": "Python 3",
      "name": "python3"
    }
  },
  "cells": [
    {
      "cell_type": "markdown",
      "metadata": {
        "id": "mZXPNYaABJ3b"
      },
      "source": [
        "# 3D7 Finite element method - laboratory notebook\n",
        "\n",
        "---\n",
        "---\n"
      ]
    },
    {
      "cell_type": "markdown",
      "metadata": {
        "id": "gQm9tbI62L9I"
      },
      "source": [
        "## Create a copy before you begin\n",
        "\n",
        "\n",
        "1. Click **Copy to Drive** using the icon on the top to create a copy of this notebook in your Cambridge Google Drive.\n",
        "\n",
        "<img src='https://docs.google.com/uc?export=download&id=1c5aWac_AK4AUA9KvlROIJS9vca0UJUfL' height=150/>\n",
        "\n",
        "2. Click **File > Locate in Drive** to locate your own copy. Rename the notebook appropriately.\n",
        "3. Do not work directly in this original notebook as you will not be able to save in this original notebook.\n",
        "\n"
      ]
    },
    {
      "cell_type": "markdown",
      "metadata": {
        "id": "UaoQUPWOFc9H"
      },
      "source": [
        "## Introduction to Google Colab and Jupyter Notebook\n",
        "\n",
        "We will use [Jupyter Notebook](https://jupyter.org/) hosted by Google Colab for interactive coding. To use this notebook effectively, you must know the following:\n",
        "\n",
        "1. Jupyter Notebook has two types of cell i.e. *text* cell and *code* cell. You can typeset and format a *text* cell to provide information about your codes. *Code* cells are executable using the built-in Python interpreter. Each *code* cell has a \"Play\" icon on its left. To execute a *code* cell, either click the \"Play\" button or press \"Shift\" + \"Enter\" with your keyboard.\n",
        "2. Google Colab has a built-in Python interpreter and runs on Ubuntu OS. Any Python packages that you install here stay in the cloud. Each time you close and reopen this Notebook, you have to run again all *code* cells including the cells that install the Python packages.\n",
        "3. Always run *code* cells sequentially i.e. from top to bottom. After you execute successfully a *code* cell, a green tick and a number e.g. [1] or [2] indicating the execution sequence will appear on its left.\n",
        "4. Save your notebook by clickling **File > Save** or using the keyboard shortcut \"Ctrl\" + \"s\".\n",
        "5. After running a *code* cell, if you wish to clear the output, you can click the cell, then hover your mouse to the top right of the cell and find **More cell actions > Clear output**. Clearing the output helps keep your notebook organised especially for *code* cells that install Python packages.\n",
        "6. If you wish to clear all Python variables so that the notebook returns to the initial state, click **Runtime > Factory reset runtime**. This should save you time from closing and re-opening your notebook.\n",
        "7. You can always re-create a copy from the original notebook should you run into bugs that you cannot fix.\n",
        "8. There is a table of contents on the left to help you navigate the notebook.\n",
        "\n",
        "More information about Google Colab can be found in [Google Colab's Frequently Asked Questions](https://research.google.com/colaboratory/faq.html)."
      ]
    },
    {
      "cell_type": "markdown",
      "metadata": {
        "id": "EDyurz82n9w0"
      },
      "source": [
        "## Tasks for the lab session\n",
        "\n",
        "This lab involves performing finite element analyses of a tensioned strip with a circular hole using various meshes. The meshes are generated with *gmsh* and the finite element analysis is performed with *FEniCS*.\n",
        "\n",
        "Before performing the finite element analyses, explore the following points to familiarise yourself with the notebook. Each issue is further elaborated at relevant places in the notebook. Allocate around 30 minutes for this exploration.\n",
        "\n",
        "*   **P1**: Find out how to refine the mesh and grade it towards high stress gradients.  \n",
        "*   **P2**: Find out how to implement the weak form if the prescribed traction is changed to prescribed displacement on the rightmost edge of the strip.\n",
        "*   **P3**: State two factors that can increase the number of degrees of freedom and the size of the assembled finite element linear system.\n",
        "*   **P4**: Visually examine the relationship between the magnitude of the applied traction and the resulting stress field across the plate.\n",
        "\n",
        "After exploring the notebook, see the Section 3 of the handout for specific finite element analyses you should perform and report. The report should cover only this second part of the lab and not the  exploration phase."
      ]
    },
    {
      "cell_type": "markdown",
      "metadata": {
        "id": "ltXaWm63oEF8"
      },
      "source": [
        "---\n",
        "# Step 1. Installing [FEniCS](https://fenicsproject.org/)\n",
        "\n",
        "FEniCS is an open-source finite element package with a Python interface. Run the following cell to install FEniCS on Google Colab:"
      ]
    },
    {
      "cell_type": "code",
      "source": [
        "try:\n",
        "    import dolfin\n",
        "except ImportError:\n",
        "    !wget \"https://fem-on-colab.github.io/releases/fenics-install.sh\" -O \"/tmp/fenics-install.sh\" && bash \"/tmp/fenics-install.sh\"\n",
        "    import dolfin"
      ],
      "metadata": {
        "id": "uHp46CEB6VIZ"
      },
      "execution_count": 1,
      "outputs": []
    },
    {
      "cell_type": "markdown",
      "metadata": {
        "id": "IWmWwCf8ozrg"
      },
      "source": [
        "---\n",
        "# Step 2. Installing [Gmsh](https://gmsh.info/)\n",
        "\n",
        "Gmsh is an open-source finite element mesh generator with built-in computer-aided design (CAD) engine. You can create a geometry and subsequently mesh it. Gmsh has a graphics user interface and a Python interface. We use here Gmsh's Python interface."
      ]
    },
    {
      "cell_type": "code",
      "metadata": {
        "id": "inNUKfsDxwuX",
        "colab": {
          "base_uri": "https://localhost:8080/"
        },
        "outputId": "de51fad6-ffd3-49a1-a31c-bdaa657e3468"
      },
      "source": [
        "!pip3 install gmsh==4.7.0\n",
        "import sys\n",
        "sys.path += ['/usr/local/lib/python3.7/site-packages/gmsh-4.7.0-Linux64-sdk/lib']"
      ],
      "execution_count": 2,
      "outputs": [
        {
          "output_type": "stream",
          "name": "stdout",
          "text": [
            "Requirement already satisfied: gmsh==4.7.0 in /usr/local/lib/python3.7/dist-packages (4.7.0)\n"
          ]
        }
      ]
    },
    {
      "cell_type": "markdown",
      "metadata": {
        "id": "M9JX5cW0odZ7"
      },
      "source": [
        "---\n",
        "# Step 3. Creating and meshing the geometry\n",
        "\n",
        "The geometry is a quarter of a strip. See Figure 1 in the labaratory handout for the dimensions. After defining the geometry a mesh is generated.  "
      ]
    },
    {
      "cell_type": "code",
      "metadata": {
        "id": "Nii48AED4lia"
      },
      "source": [
        "# Import some packages: gmsh, the sys package to allow command line commands to be executed from the Python interpreter and the math package\n",
        "import gmsh\n",
        "import sys\n",
        "import math\n",
        "\n",
        "# Initialise gmsh\n",
        "gmsh.initialize(sys.argv)\n",
        "# Ask gmsh to display information in the terminal\n",
        "gmsh.option.setNumber(\"General.Terminal\", 1)\n",
        "# Select the gmsh file format\n",
        "gmsh.option.setNumber(\"Mesh.MshFileVersion\", 2.0)\n",
        "\n",
        "# Create a model and name it \"PlateSymmetric\"\n",
        "model = gmsh.model\n",
        "model.add(\"PlateSymmetric\")\n",
        "\n",
        "# Define the geometry and mesh parameters\n",
        "L = 150;  # half-length of the plate\n",
        "w = 50;   # half-width of the plate\n",
        "r = 14.8; # radius of the hole\n",
        "hmin = 9; # min element size\n",
        "hmax = 9; # max element size\n",
        "\n",
        "# Create Points to define the geometry\n",
        "holecenter        = model.geo.addPoint(0, 0, 0, hmin, 1)\n",
        "holeedge1         = model.geo.addPoint(r, 0, 0, hmin, 2)\n",
        "bottomrightcorner = model.geo.addPoint(L, 0, 0, hmax, 3)\n",
        "toprightcorner    = model.geo.addPoint(L, w, 0, hmax, 4)\n",
        "topleftcorner     = model.geo.addPoint(0, w, 0, hmax, 5)\n",
        "holeedge2         = model.geo.addPoint(0, r, 0, hmin, 6)\n",
        "\n",
        "# Create straight lines connecting the points\n",
        "lines = []\n",
        "lines.append(model.geo.addLine(2, 3, 1))\n",
        "lines.append(model.geo.addLine(3, 4, 2))\n",
        "lines.append(model.geo.addLine(4, 5, 3))\n",
        "lines.append(model.geo.addLine(5, 6, 4))\n",
        "\n",
        "# Create a circle arc\n",
        "lines.append(model.geo.addCircleArc(6, 1, 2))\n",
        "\n",
        "# Define a loop by combining the lines and the circle arc\n",
        "curveloop = model.geo.addCurveLoop([1,2,3,4,5])\n",
        "# Define a surface inside the loop\n",
        "disk = model.geo.addPlaneSurface([curveloop])\n",
        "\n",
        "# Synchronize the CAD kernel with the gmsh model\n",
        "gmsh.model.geo.synchronize()\n",
        "# Create the 2D mesh\n",
        "model.mesh.generate(2)\n",
        "# Write the mesh in a .msh file\n",
        "gmsh.write(\"mesh.msh\")\n",
        "# Finalize gmsh\n",
        "gmsh.finalize()"
      ],
      "execution_count": 3,
      "outputs": []
    },
    {
      "cell_type": "markdown",
      "metadata": {
        "id": "_mMKW7Ka84zd"
      },
      "source": [
        "> **P1**: Notice the parameters *hmin* and *hmax* in the cell above. Adjust these parameters to see their effect on the finite element mesh."
      ]
    },
    {
      "cell_type": "markdown",
      "metadata": {
        "id": "5OZDILjW8PJD"
      },
      "source": [
        "To visualise the mesh the file **mesh.msh** is converted into **mesh2.xml**."
      ]
    },
    {
      "cell_type": "code",
      "metadata": {
        "id": "awvAD5bmdLlG",
        "colab": {
          "base_uri": "https://localhost:8080/",
          "height": 311
        },
        "outputId": "03b34b17-ab25-43b6-f7e8-228ca80324c1"
      },
      "source": [
        "from fenics import *\n",
        "from dolfin_utils.meshconvert import meshconvert\n",
        "meshconvert.convert2xml(\"mesh.msh\", \"mesh2.xml\", \"gmsh\")\n",
        "\n",
        "mesh = Mesh(\"mesh2.xml\")\n",
        "plot(mesh, title=\"Finite element mesh\")"
      ],
      "execution_count": 4,
      "outputs": [
        {
          "output_type": "stream",
          "name": "stdout",
          "text": [
            "Converting from Gmsh format (.msh, .gmsh) to DOLFIN XML format\n",
            "Expecting 147 vertices\n",
            "Found all vertices\n",
            "Expecting 246 cells\n",
            "Found all cells\n",
            "Conversion done\n"
          ]
        },
        {
          "output_type": "execute_result",
          "data": {
            "text/plain": [
              "[<matplotlib.lines.Line2D at 0x7fda25ff0a10>,\n",
              " <matplotlib.lines.Line2D at 0x7fda260070d0>]"
            ]
          },
          "metadata": {},
          "execution_count": 4
        },
        {
          "output_type": "display_data",
          "data": {
            "image/png": "[encoded data removed]",
            "text/plain": [
              "<Figure size 432x288 with 1 Axes>"
            ]
          },
          "metadata": {
            "needs_background": "light"
          }
        }
      ]
    },
    {
      "cell_type": "markdown",
      "metadata": {
        "id": "7oNc1FhMEd1U"
      },
      "source": [
        "> **P1**: When you change the parameters *hmin* and *hmax* remember to visualise the new mesh.\n",
        "\n"
      ]
    },
    {
      "cell_type": "markdown",
      "metadata": {
        "id": "DO4DH8vVgUCk"
      },
      "source": [
        "The number of triangular elements in the mesh is queried as follows."
      ]
    },
    {
      "cell_type": "code",
      "metadata": {
        "id": "2I8uVfnxgSes",
        "colab": {
          "base_uri": "https://localhost:8080/"
        },
        "outputId": "9ead0851-69f8-4f3d-90cd-fc7f0700fb64"
      },
      "source": [
        "print(mesh.num_cells())"
      ],
      "execution_count": 5,
      "outputs": [
        {
          "output_type": "stream",
          "name": "stdout",
          "text": [
            "246\n"
          ]
        }
      ]
    },
    {
      "cell_type": "markdown",
      "metadata": {
        "id": "FfmrBrhKoi9H"
      },
      "source": [
        "---\n",
        "# Step 4. Defining the elasticity problem"
      ]
    },
    {
      "cell_type": "markdown",
      "metadata": {
        "id": "L_0ekK9C9Unz"
      },
      "source": [
        "The finite element equations are obtained by discretising the weak form of the elasticity equations, or the principal of virtual work. \n",
        "\n",
        "The applied stress is the total applied force ($10 \\times 10^3$ N) divided by the cross-sectional area of the strip ($100$ mm $\\times$ $1.7$ mm)."
      ]
    },
    {
      "cell_type": "code",
      "metadata": {
        "id": "mE76dEdapF3M"
      },
      "source": [
        "applied_stress = 58             # applied normal stress (N/mm^2)"
      ],
      "execution_count": 6,
      "outputs": []
    },
    {
      "cell_type": "markdown",
      "metadata": {
        "id": "wVKM_1ci91H5"
      },
      "source": [
        "The Young's modulus $E$ and the Poisson's ratio $ν$ for aluminum are found in the Structures Data book."
      ]
    },
    {
      "cell_type": "code",
      "metadata": {
        "id": "UuEjDP3ZrN5w"
      },
      "source": [
        "E  = Constant(70000)            # Young's modulus (MPa i.e. N/mm^2)\n",
        "nu = Constant(0.33)             # Poisson's ratio"
      ],
      "execution_count": 7,
      "outputs": []
    },
    {
      "cell_type": "markdown",
      "metadata": {
        "id": "AJuBcARvAsha"
      },
      "source": [
        "As outlined in the handout the strain $\\varepsilon$ is the symmetric gradient. The strain $\\varepsilon$ and stress $\\sigma$ are related through Hooke's law. The Hooke's law for plane stress can be expressed as given below."
      ]
    },
    {
      "cell_type": "code",
      "metadata": {
        "id": "1XTbHLkkrrzd"
      },
      "source": [
        "def eps(v):\n",
        "    return sym(grad(v))"
      ],
      "execution_count": 8,
      "outputs": []
    },
    {
      "cell_type": "code",
      "source": [
        "def sigma(v):\n",
        "    return (E*nu/(1.0-nu*nu))*tr(eps(v))*Identity(2) + (E/(1.0+nu))*eps(v)"
      ],
      "metadata": {
        "id": "5ulv0nwoSHdV"
      },
      "execution_count": 9,
      "outputs": []
    },
    {
      "cell_type": "markdown",
      "metadata": {
        "id": "1pho7ZfY-qRw"
      },
      "source": [
        "Next, the Neumann boundary is defined. Recall that a traction, i.e. stress, is applied along the right edge of the strip. "
      ]
    },
    {
      "cell_type": "code",
      "metadata": {
        "id": "EIQ5EerH-tHZ"
      },
      "source": [
        "# return true if a vertex is on the right edge of the strip (x=L)\n",
        "class IsTractionBoundary(SubDomain):\n",
        "    def inside(self, x, on_boundary):\n",
        "\t\t    return near(x[0], L)\n",
        "      \n",
        "# get all boundary nodes and apply a scalar function over these vertices\n",
        "mesh_boundary_bool = MeshFunction(\"size_t\", mesh, mesh.topology().dim()-1)\n",
        "# initialise all boundary nodes as 0\n",
        "mesh_boundary_bool.set_all(0)\n",
        "\n",
        "# set boundary nodes that lie on the right edge as 1\n",
        "IsTractionBoundary().mark(mesh_boundary_bool, 1)\n",
        "# define a surface integral based on this function\n",
        "ds = Measure(\"ds\")(subdomain_data=mesh_boundary_bool)"
      ],
      "execution_count": 10,
      "outputs": []
    },
    {
      "cell_type": "markdown",
      "metadata": {
        "id": "91PmC69G96MF"
      },
      "source": [
        "Recall that the weak form is given by\n",
        "\n",
        ">$$ \\int_\\Omega (\\mathbf{\\nabla}_S \\mathbf w)^T \\mathbf{\\sigma} (\\mathbf u) \\, d\\Omega = \\int_{\\Gamma_t} \\mathbf w^T \\overline{\\mathbf t} \\, d \\Gamma_t   $$\n",
        "\n",
        "where $\\Omega$ is the domain, $\\Gamma_t$ is the traction boundary (in this case, the right edge of the strip), $\\mathbf{w}=\\left[w_x\\, w_y\\right]^T$ is the vector of test functions, $\\mathbf{\\nabla}_S$ is the symmetric gradient, $ \\mathbf{\\sigma} = \\left[\\sigma_{xx}\\, \\sigma_{yy} \\, \\sigma_{xy} \\right]^T$ is the stress vector and $ \\overline{\\mathbf t} = \\left[\\overline{ t}_x\\,\\,\\overline{ t}_y \\right]^T$ is the applied traction vector. "
      ]
    },
    {
      "cell_type": "code",
      "metadata": {
        "id": "7Rlt-nwksfhK"
      },
      "source": [
        "s  = Constant((applied_stress, 0.0))                 # vector of applied stress\n",
        "V  = VectorFunctionSpace(mesh, 'Lagrange', degree=2) # shape functions\n",
        "u_ = TrialFunction(V)                                # trial function\n",
        "w_ = TestFunction(V)                                 # test function\n",
        "a  = inner(sigma(u_), eps(w_))*dx                    # internal virtual work\n",
        "l  = inner(s, w_)*ds(1)                              # external virtual work"
      ],
      "execution_count": 11,
      "outputs": []
    },
    {
      "cell_type": "markdown",
      "metadata": {
        "id": "JcoUczNRAg7j"
      },
      "source": [
        "Next, the Dirichlet boundary is defined. "
      ]
    },
    {
      "cell_type": "code",
      "metadata": {
        "id": "oH0I_PikAfF-"
      },
      "source": [
        "# return true if the node is on the left domain edge\n",
        "def is_on_left(x, on_boundary):\n",
        "    return near(x[0], 0.)\n",
        "\n",
        "# return true if the node is on the bottom domain edge\n",
        "def is_on_bottom(x, on_boundary):\n",
        "    return near(x[1], 0.)\n",
        "\n",
        "# return true if the node is on the right domain edge\n",
        "def is_on_right(x, on_boundary):\n",
        "\t\treturn near(x[0], L)\n",
        "\n",
        "# define the Dirichlet boundary \n",
        "bcx = DirichletBC(V.sub(0), Constant((0.)), is_on_left)\n",
        "bcy = DirichletBC(V.sub(1), Constant((0.)), is_on_bottom)\n",
        "bc = [bcx, bcy]"
      ],
      "execution_count": 12,
      "outputs": []
    },
    {
      "cell_type": "markdown",
      "metadata": {
        "id": "JwSavZB0ENR4"
      },
      "source": [
        "> **P2**: If on the right domain edge a displacement instead of a traction is prescribed, what needs to be changed? Hints:\n",
        "1.   Uncomment the code below and experiment.\n",
        "2.   Note that for the same point it is **not possible** to prescribe both displacement and traction."
      ]
    },
    {
      "cell_type": "code",
      "source": [
        "# displacement = 0.5                  \n",
        "# bc_displacement = DirichletBC(V.sub(0), Constant((displacement)), is_on_right)\n",
        "# bc = [bcx, bcy, bc_displacement]                                     "
      ],
      "metadata": {
        "id": "IPmtn26cA1_A"
      },
      "execution_count": 13,
      "outputs": []
    },
    {
      "cell_type": "markdown",
      "metadata": {
        "id": "YYaD7lpAopav"
      },
      "source": [
        "---\n",
        "# Step 5. Solving the linear system of equations"
      ]
    },
    {
      "cell_type": "markdown",
      "metadata": {
        "id": "snzdYBZP-DIN"
      },
      "source": [
        "The finite element discretisation of the weak form yields a (sparse) linear system of equations, which can be efficiently solved."
      ]
    },
    {
      "cell_type": "code",
      "metadata": {
        "id": "okpOoCPDsiIA"
      },
      "source": [
        "u = Function(V, name=\"Displacement\")\n",
        "solve(a == l, u, bc)"
      ],
      "execution_count": 14,
      "outputs": []
    },
    {
      "cell_type": "markdown",
      "metadata": {
        "id": "OORSUMCl-AYk"
      },
      "source": [
        "The finite element solution is best examined visualising the displacement field."
      ]
    },
    {
      "cell_type": "code",
      "metadata": {
        "id": "qAlotKqksyUt",
        "colab": {
          "base_uri": "https://localhost:8080/",
          "height": 176
        },
        "outputId": "587bfc40-6e4d-405b-a88e-c11cbac7b559"
      },
      "source": [
        "plot(u, mode=\"displacement\")"
      ],
      "execution_count": 15,
      "outputs": [
        {
          "output_type": "execute_result",
          "data": {
            "text/plain": [
              "<matplotlib.collections.PolyCollection at 0x7fda25b1d550>"
            ]
          },
          "metadata": {},
          "execution_count": 15
        },
        {
          "output_type": "display_data",
          "data": {
            "image/png": "[encoded data removed]",
            "text/plain": [
              "<Figure size 432x288 with 1 Axes>"
            ]
          },
          "metadata": {
            "needs_background": "light"
          }
        }
      ]
    },
    {
      "cell_type": "markdown",
      "metadata": {
        "id": "gBcTjLtJR_OL"
      },
      "source": [
        "The size of the displacement vector is equal to the number of degrees of freedom."
      ]
    },
    {
      "cell_type": "code",
      "metadata": {
        "id": "Hc7Tycu0Ri_G",
        "colab": {
          "base_uri": "https://localhost:8080/"
        },
        "outputId": "3011d437-ba85-425d-96b4-ddc949d8919f"
      },
      "source": [
        "u.vector()[:].size"
      ],
      "execution_count": 16,
      "outputs": [
        {
          "output_type": "execute_result",
          "data": {
            "text/plain": [
              "1078"
            ]
          },
          "metadata": {},
          "execution_count": 16
        }
      ]
    },
    {
      "cell_type": "markdown",
      "metadata": {
        "id": "N2oxogEOJQRg"
      },
      "source": [
        "\n",
        "\n",
        "> **P3** The higher the number of degrees of freedom the longer it takes to solve the linear system of equations.  Can you state two factors that affect the number of degrees of freedom? Hints:\n",
        "1.   Experiment with the number of elements.\n",
        "2.   Experiment with the polynomial degree of the Lagrange shape functions.\n",
        "\n",
        "\n"
      ]
    },
    {
      "cell_type": "markdown",
      "metadata": {
        "id": "aiP5bKUbovJ5"
      },
      "source": [
        "---\n",
        "#Step 6. Postprocessing"
      ]
    },
    {
      "cell_type": "markdown",
      "metadata": {
        "id": "qPvKghA1-F4E"
      },
      "source": [
        "Finite element analysis is more than just pretty plots! For postprocessing the Python modules [matplotlib](https://matplotlib.org/) and [numpy](https://numpy.org/) can be used. \n",
        "\n",
        "The stress near the hole boundary is inquired as follows."
      ]
    },
    {
      "cell_type": "code",
      "metadata": {
        "id": "UD7kYpuHtYEV",
        "colab": {
          "base_uri": "https://localhost:8080/"
        },
        "outputId": "d042eb07-4967-4c20-ae87-b55552edd6ba"
      },
      "source": [
        "Vsig = TensorFunctionSpace(mesh, \"DG\", degree=1) # define finite element interpolation for the stress\n",
        "sig = Function(Vsig, name=\"Stress\")              # define stress function\n",
        "sig.assign(project(sigma(u), Vsig))              # project sigma(u) onto the corresponding basis of shape functions\n",
        "print(\"Stress at (0,R):\", sig(0.001, r+0.001))   # print the stress in the vicinity of the hole"
      ],
      "execution_count": 17,
      "outputs": [
        {
          "output_type": "stream",
          "name": "stdout",
          "text": [
            "Stress at (0,R): [151.87129916   0.21817623   0.21817623  20.89016217]\n"
          ]
        }
      ]
    },
    {
      "cell_type": "markdown",
      "metadata": {
        "id": "WnSFtNEkKV_6"
      },
      "source": [
        "The isocontour of the stress component $\\sigma_{xx}$ is plotted as follows."
      ]
    },
    {
      "cell_type": "code",
      "metadata": {
        "id": "z3SWO0eOxAnm",
        "colab": {
          "base_uri": "https://localhost:8080/",
          "height": 265
        },
        "outputId": "e0bc17de-8bc6-49a2-b325-4e14f76dec71"
      },
      "source": [
        "from matplotlib import pyplot\n",
        "stressplot = plot(sig[0, 0], wireframe=True, title=\"sigma_xx\") \n",
        "pyplot.colorbar(stressplot)"
      ],
      "execution_count": 18,
      "outputs": [
        {
          "output_type": "execute_result",
          "data": {
            "text/plain": [
              "<matplotlib.colorbar.Colorbar at 0x7fda16bde290>"
            ]
          },
          "metadata": {},
          "execution_count": 18
        },
        {
          "output_type": "display_data",
          "data": {
            "image/png": "[encoded data removed]",
            "text/plain": [
              "<Figure size 432x288 with 2 Axes>"
            ]
          },
          "metadata": {
            "needs_background": "light"
          }
        }
      ]
    },
    {
      "cell_type": "markdown",
      "metadata": {
        "id": "d5kiQieELBBR"
      },
      "source": [
        "> **P4**: What do you notice from the above stress field? Does the distribution of the stress depend on the magnitude of the applied traction? Hint: increase the applied traction and visualise again the stress field."
      ]
    },
    {
      "cell_type": "markdown",
      "metadata": {
        "id": "N6zVdW-BLVFx"
      },
      "source": [
        "To compute the stress concentration factor the stress is divided by the applied traction near the right domain boundary."
      ]
    },
    {
      "cell_type": "code",
      "metadata": {
        "id": "fmajJUqZGO43",
        "colab": {
          "base_uri": "https://localhost:8080/"
        },
        "outputId": "14170535-6453-44b8-c7ad-9377ea490d48"
      },
      "source": [
        "sigma0 = sig(L, 0)[0]                               # define the horizontal stress near the right domain boundary\n",
        "print(sigma0)                                       # check if this agrees with the traction boundary condition\n",
        "sig_rescaled = Function(Vsig, name=\"Stress\")\n",
        "sig_rescaled.assign(project(sigma(u)/sigma0, Vsig)) # define the rescaled stress"
      ],
      "execution_count": 19,
      "outputs": [
        {
          "output_type": "stream",
          "name": "stdout",
          "text": [
            "58.00571277321013\n"
          ]
        }
      ]
    },
    {
      "cell_type": "markdown",
      "metadata": {
        "id": "fTIkyhTO-Ngr"
      },
      "source": [
        "To gain further insight the stress concentration factor along certain lines in the domain is plotted as follows.\n",
        "\n",
        "> Do not use these plots directly in your report. The plots here are only for initial qualitative checks. Follow Step 7 below to export the results and to create plots for your report.\n",
        "\n",
        "\n"
      ]
    },
    {
      "cell_type": "code",
      "metadata": {
        "id": "G7RgmnrL2z9G"
      },
      "source": [
        "# import the numpy and math packages.\n",
        "import numpy as np \n",
        "import math\n",
        "# define sets of horizontal and vertical coordinates\n",
        "n=math.floor(w/4)\n",
        "x = np.linspace(r+0.01,L,n)\n",
        "y = np.linspace(r+0.01,w,n)"
      ],
      "execution_count": 20,
      "outputs": []
    },
    {
      "cell_type": "code",
      "metadata": {
        "id": "qELH2VraH9IX"
      },
      "source": [
        "# define horizontal and vertical rescaled stress profile along the leftmost and bottom edge of the domain\n",
        "sig_xx_horizontalprofile = [sig_rescaled(xi, 0.)[0] for xi in x]\n",
        "sig_xx_verticalprofile = [sig_rescaled(0., yi)[0] for yi in y]\n",
        "sig_yy_horizontalprofile = [sig_rescaled(xi, 0.)[3] for xi in x]\n",
        "sig_yy_verticalprofile = [sig_rescaled(0., yi)[3] for yi in y]"
      ],
      "execution_count": 21,
      "outputs": []
    },
    {
      "cell_type": "code",
      "metadata": {
        "id": "t0Ad4WhZJFMI",
        "colab": {
          "base_uri": "https://localhost:8080/",
          "height": 312
        },
        "outputId": "2900a295-7c55-4fe3-f197-5209726c7eee"
      },
      "source": [
        "# plot the rescaled stress profiles along the bottom edge of the domain (y=0)\n",
        "import matplotlib.pyplot as plt\n",
        "plt.plot(x,sig_yy_horizontalprofile,'bo',label='sigma_yy/sigma0')\n",
        "plt.plot(x,sig_xx_horizontalprofile,'ro',label='sigma_xx/sigma0')\n",
        "plt.ylabel(\"rescaled stress\")\n",
        "plt.xlabel(\"distance center of the hole (mm)\")\n",
        "plt.title(\"rescaled stresses at y=0\")\n",
        "plt.legend()"
      ],
      "execution_count": 22,
      "outputs": [
        {
          "output_type": "execute_result",
          "data": {
            "text/plain": [
              "<matplotlib.legend.Legend at 0x7fda18fd7950>"
            ]
          },
          "metadata": {},
          "execution_count": 22
        },
        {
          "output_type": "display_data",
          "data": {
            "image/png": "[encoded data removed]",
            "text/plain": [
              "<Figure size 432x288 with 1 Axes>"
            ]
          },
          "metadata": {
            "needs_background": "light"
          }
        }
      ]
    },
    {
      "cell_type": "code",
      "metadata": {
        "id": "6twNuIH_a_gH",
        "colab": {
          "base_uri": "https://localhost:8080/",
          "height": 312
        },
        "outputId": "c5ac2b72-2cc5-4b69-e155-17dfb5ce2af5"
      },
      "source": [
        "# plot the rescaled stress profiles along the leftmost edge (x=0)\n",
        "import matplotlib.pyplot as plt\n",
        "plt.plot(y,sig_yy_verticalprofile,'bo',label='sigma_yy/sigma0')\n",
        "plt.plot(y,sig_xx_verticalprofile,'ro',label='sigma_xx/sigma0')\n",
        "plt.ylabel(\"rescaled stress\")\n",
        "plt.xlabel(\"distance center of the hole (mm)\")\n",
        "plt.title(\"rescaled stresses at x=0\")\n",
        "plt.legend()"
      ],
      "execution_count": 23,
      "outputs": [
        {
          "output_type": "execute_result",
          "data": {
            "text/plain": [
              "<matplotlib.legend.Legend at 0x7fda16927990>"
            ]
          },
          "metadata": {},
          "execution_count": 23
        },
        {
          "output_type": "display_data",
          "data": {
            "image/png": "[encoded data removed]",
            "text/plain": [
              "<Figure size 432x288 with 1 Axes>"
            ]
          },
          "metadata": {
            "needs_background": "light"
          }
        }
      ]
    },
    {
      "cell_type": "code",
      "metadata": {
        "id": "j-BddMHcKIuD",
        "colab": {
          "base_uri": "https://localhost:8080/",
          "height": 312
        },
        "outputId": "557d0fbf-43a7-4f47-c962-5b9e81f15462"
      },
      "source": [
        "# plot the rescaled stress along the rightmost edge and check if the value is equal to 1\n",
        "bcsy = [sig_rescaled(L, yi)[0] for yi in y]\n",
        "plt.plot(y,bcsy,'ro',label='sigma_xx/sigma0')\n",
        "plt.ylabel(\"rescaled stress\")\n",
        "plt.xlabel(\"distance center of the plate (mm)\")\n",
        "plt.title(\"rescaled sigma_xx at x=L\")\n",
        "plt.ylim(0.5,1.5)\n",
        "plt.legend()"
      ],
      "execution_count": 24,
      "outputs": [
        {
          "output_type": "execute_result",
          "data": {
            "text/plain": [
              "<matplotlib.legend.Legend at 0x7fda1685e310>"
            ]
          },
          "metadata": {},
          "execution_count": 24
        },
        {
          "output_type": "display_data",
          "data": {
            "image/png": "[encoded data removed]",
            "text/plain": [
              "<Figure size 432x288 with 1 Axes>"
            ]
          },
          "metadata": {
            "needs_background": "light"
          }
        }
      ]
    },
    {
      "cell_type": "markdown",
      "source": [
        "Extract nodal stress values to obtain the maximum $\\sigma_{xx}$, minimum $\\sigma_yy$, and maximum von Mises stress. \n",
        "\n",
        "> Write a function to compute von Mises stress from the stress components at each nodes."
      ],
      "metadata": {
        "id": "iVh32CbcQXZH"
      }
    },
    {
      "cell_type": "code",
      "source": [
        "# list of mesh coordinates\n",
        "allNodes = mesh.coordinates()\n",
        "\n",
        "# scaled normal stress at all nodes\n",
        "sig_xx_all = [sig_rescaled(xi)[0] for xi in allNodes]\n",
        "sig_yy_all = [sig_rescaled(xi)[3] for xi in allNodes]\n",
        "\n",
        "# scaled shear stress at all nodes\n",
        "sig_xy_all = [sig_rescaled(xi)[1] for xi in allNodes]\n",
        "\n",
        "print(\"Maximum sigma_xx is: \", np.max(sig_xx_all))\n",
        "print(\"Minimum sigma_yy is: \", np.min(sig_yy_all))\n",
        "\n",
        "# scaled von Mises stress\n"
      ],
      "metadata": {
        "colab": {
          "base_uri": "https://localhost:8080/"
        },
        "id": "cYgPqKcUQmP5",
        "outputId": "03b651e2-2f7c-4629-a2bd-175a3305ad92"
      },
      "execution_count": 25,
      "outputs": [
        {
          "output_type": "stream",
          "name": "stdout",
          "text": [
            "Maximum sigma_xx is:  3.375039064876143\n",
            "Minimum sigma_yy is:  -1.229502383205531\n"
          ]
        }
      ]
    },
    {
      "cell_type": "markdown",
      "metadata": {
        "id": "aA4L0MOppHI8"
      },
      "source": [
        "---\n",
        "# Step 7. Exporting the result for post-processing"
      ]
    },
    {
      "cell_type": "markdown",
      "metadata": {
        "id": "4PqdP8BqNkgQ"
      },
      "source": [
        "The finite element results are exported for further processing with a third-party software of choice such as Matlab, Python and Excel."
      ]
    },
    {
      "cell_type": "markdown",
      "metadata": {
        "id": "k1txn8AAXV1r"
      },
      "source": [
        "## Step 7a. Mount your google drive and export results\n",
        "\n",
        "To export the results, first your Cambridge Google Account needs to authorised. Make sure that you use the same Cambridge Google Account. The authorisation proceeds as follows:\n",
        "\n",
        "1. Run the *code* cell below. A message will pop up.\n",
        "2. Click **Connect to Google Drive**.\n",
        "3. Select which Google account to proceed. Choose your Cambridge Google account."
      ]
    },
    {
      "cell_type": "code",
      "metadata": {
        "id": "fqiCALNeX8yi",
        "colab": {
          "base_uri": "https://localhost:8080/"
        },
        "outputId": "20b2c339-99b1-488a-a17f-b112ee511283"
      },
      "source": [
        "from google.colab import drive\n",
        "drive.mount('/content/drive')"
      ],
      "execution_count": 26,
      "outputs": [
        {
          "output_type": "stream",
          "name": "stdout",
          "text": [
            "Drive already mounted at /content/drive; to attempt to forcibly remount, call drive.mount(\"/content/drive\", force_remount=True).\n"
          ]
        }
      ]
    },
    {
      "cell_type": "markdown",
      "metadata": {
        "id": "RXeQ2wm2OUf6"
      },
      "source": [
        "Next, create a folder with the name **3D7** in your Google Drive. After that, run the following *code* cell to go to the folder directory."
      ]
    },
    {
      "cell_type": "code",
      "metadata": {
        "id": "_2885oraCec3",
        "colab": {
          "base_uri": "https://localhost:8080/"
        },
        "outputId": "fc9bbf7d-67db-4de7-d3de-051434eebf6a"
      },
      "source": [
        "%cd /content/drive/My\\ Drive/3D7"
      ],
      "execution_count": 41,
      "outputs": [
        {
          "output_type": "stream",
          "name": "stdout",
          "text": [
            "/content/drive/My Drive/3D7\n"
          ]
        }
      ]
    },
    {
      "cell_type": "markdown",
      "metadata": {
        "id": "LfrK4jJzOjlH"
      },
      "source": [
        "You can now save your rescaled stress profiles as .txt files. The block of code below will create two files. Each of these files has two rows. The first row contains the vector of $x$ coordinates in mm whereas the second contains the rescaled stress."
      ]
    },
    {
      "cell_type": "code",
      "metadata": {
        "id": "L7KNiAopYKk9"
      },
      "source": [
        "import numpy as np\n",
        "np.savetxt(\"stress-yy.txt\", (x,sig_yy_horizontalprofile))\n",
        "np.savetxt(\"stress-xx.txt\", (x,sig_xx_horizontalprofile))"
      ],
      "execution_count": 28,
      "outputs": []
    },
    {
      "cell_type": "markdown",
      "metadata": {
        "id": "CIsht4YCPydB"
      },
      "source": [
        "You can use the list command in Ubuntu shell to see if the files have been created."
      ]
    },
    {
      "cell_type": "code",
      "metadata": {
        "id": "DyD-sld4pj8l",
        "colab": {
          "base_uri": "https://localhost:8080/"
        },
        "outputId": "f4107c20-18eb-4a94-c2d2-bfdfce8a4cd9"
      },
      "source": [
        "!ls"
      ],
      "execution_count": 29,
      "outputs": [
        {
          "output_type": "stream",
          "name": "stdout",
          "text": [
            "mesh_coarse.xml  stress-xx.txt\tu_coarse.h5    u_fine.h5\n",
            "mesh_fine.xml\t stress-yy.txt\tu_coarse.xdmf  u_fine.xdmf\n"
          ]
        }
      ]
    },
    {
      "cell_type": "markdown",
      "metadata": {
        "id": "Flhyu8ZAQANU"
      },
      "source": [
        "---\n",
        "# Step 8. Further post-processing\n",
        "\n",
        "\n",
        "\n"
      ]
    },
    {
      "cell_type": "markdown",
      "metadata": {
        "id": "RYSRy7lsQGzD"
      },
      "source": [
        "The following provides additional guidelines for post-processing the finite element result."
      ]
    },
    {
      "cell_type": "markdown",
      "metadata": {
        "id": "6XsB6DqlWyWN"
      },
      "source": [
        "## Step 8a. Computing the norm of the error (for the FTR)"
      ]
    },
    {
      "cell_type": "markdown",
      "metadata": {
        "id": "N-lv0C9ERmUg"
      },
      "source": [
        "FEniCS has built-in functions to compute errors in different norms. Here, the finite element error is determined by comparing a coarse mesh solution with a fine mesh solution. More details can be found in the FEniCS article [Postprocessing computations](https://fenicsproject.org/pub/tutorial/html/._ftut1020.html) (see the section *Computing convergence rates*.)"
      ]
    },
    {
      "cell_type": "markdown",
      "metadata": {
        "id": "VtNxY_GASPip"
      },
      "source": [
        "> In order to execute the following cells, first save the finote element results obtained using (i) a coarse mesh and (ii) a fine mesh. For each mesh, save the mesh file and the obtained nodal displacements using the cell below. Don't forget to rename the files suitably.\n",
        "\n"
      ]
    },
    {
      "cell_type": "code",
      "metadata": {
        "id": "ak-JHcHLBJ10"
      },
      "source": [
        "f_out = XDMFFile(\"u_fine.xdmf\") \n",
        "f_out.write_checkpoint(project(u, V), \"Displacement\", 0, XDMFFile.Encoding.HDF5, False) \n",
        "mesh_file = File(\"mesh_fine.xml\")\n",
        "mesh_file << mesh"
      ],
      "execution_count": 30,
      "outputs": []
    },
    {
      "cell_type": "markdown",
      "metadata": {
        "id": "1F6mGYhwS2xQ"
      },
      "source": [
        "Open the mesh files and the nodal displacements files."
      ]
    },
    {
      "cell_type": "code",
      "metadata": {
        "id": "378u_waw_UT1"
      },
      "source": [
        "mesh = Mesh(\"mesh_coarse.xml\")\n",
        "V = VectorFunctionSpace(mesh, 'Lagrange', degree=2)\n",
        "u_coarse = Function(V)\n",
        "f_in =  XDMFFile(\"u_coarse.xdmf\")\n",
        "f_in.read_checkpoint(u_coarse,\"Displacement\",0)"
      ],
      "execution_count": 31,
      "outputs": []
    },
    {
      "cell_type": "code",
      "metadata": {
        "id": "KPnsWTOnTSKa"
      },
      "source": [
        "meshfine = Mesh(\"mesh_fine.xml\")\n",
        "Vfine = VectorFunctionSpace(meshfine, 'Lagrange', degree=2)\n",
        "u_fine = Function(Vfine)\n",
        "f_in =  XDMFFile(\"u_fine.xdmf\")\n",
        "f_in.read_checkpoint(u_fine,\"Displacement\",0)"
      ],
      "execution_count": 32,
      "outputs": []
    },
    {
      "cell_type": "markdown",
      "metadata": {
        "id": "FtbdA29HTZMi"
      },
      "source": [
        "Plot and compare the displacement fields obtained with the two meshes."
      ]
    },
    {
      "cell_type": "code",
      "metadata": {
        "id": "qpBIWLpLA-DT",
        "colab": {
          "base_uri": "https://localhost:8080/",
          "height": 177
        },
        "outputId": "0aa07496-9a1a-4657-c5fc-2a99a8d0b99a"
      },
      "source": [
        "plot(u_fine)"
      ],
      "execution_count": 33,
      "outputs": [
        {
          "output_type": "execute_result",
          "data": {
            "text/plain": [
              "<matplotlib.quiver.Quiver at 0x7fda167f5e50>"
            ]
          },
          "metadata": {},
          "execution_count": 33
        },
        {
          "output_type": "display_data",
          "data": {
            "image/png": "[encoded data removed]",
            "text/plain": [
              "<Figure size 432x288 with 1 Axes>"
            ]
          },
          "metadata": {
            "needs_background": "light"
          }
        }
      ]
    },
    {
      "cell_type": "code",
      "metadata": {
        "id": "wztEQYiGVW2M",
        "colab": {
          "base_uri": "https://localhost:8080/",
          "height": 177
        },
        "outputId": "b0b16ba3-d323-41b5-c813-5d2a4bee2011"
      },
      "source": [
        "plot(u_coarse)"
      ],
      "execution_count": 34,
      "outputs": [
        {
          "output_type": "execute_result",
          "data": {
            "text/plain": [
              "<matplotlib.quiver.Quiver at 0x7fda1636d450>"
            ]
          },
          "metadata": {},
          "execution_count": 34
        },
        {
          "output_type": "display_data",
          "data": {
            "image/png": "[encoded data removed]",
            "text/plain": [
              "<Figure size 432x288 with 1 Axes>"
            ]
          },
          "metadata": {
            "needs_background": "light"
          }
        }
      ]
    },
    {
      "cell_type": "markdown",
      "metadata": {
        "id": "dQdAe60GTfPK"
      },
      "source": [
        "Extrapolate the coarse mesh displacement to the fine mesh."
      ]
    },
    {
      "cell_type": "code",
      "metadata": {
        "id": "ML695Q_3Uqbm"
      },
      "source": [
        "u_coarse.set_allow_extrapolation(True)\n",
        "u_interp_coarse = interpolate(u_coarse,Vfine)"
      ],
      "execution_count": 35,
      "outputs": []
    },
    {
      "cell_type": "markdown",
      "metadata": {
        "id": "wRi_-chhTv0G"
      },
      "source": [
        "Visualise the difference between the two displacement fields to examine the discretisation error."
      ]
    },
    {
      "cell_type": "code",
      "metadata": {
        "id": "A6wtwABvVoI9",
        "colab": {
          "base_uri": "https://localhost:8080/",
          "height": 181
        },
        "outputId": "85b6f66d-7fbc-4a4b-9f55-2d6d08a33e58"
      },
      "source": [
        "plot(inner(u_fine-u_interp_coarse,u_fine-u_interp_coarse))"
      ],
      "execution_count": 36,
      "outputs": [
        {
          "output_type": "execute_result",
          "data": {
            "text/plain": [
              "<matplotlib.tri.tricontour.TriContourSet at 0x7fda162b5890>"
            ]
          },
          "metadata": {},
          "execution_count": 36
        },
        {
          "output_type": "display_data",
          "data": {
            "image/png": "[encoded data removed]",
            "text/plain": [
              "<Figure size 432x288 with 1 Axes>"
            ]
          },
          "metadata": {
            "needs_background": "light"
          }
        }
      ]
    },
    {
      "cell_type": "markdown",
      "metadata": {
        "id": "8558nFOogqnw"
      },
      "source": [
        "Compute the relative norm of error."
      ]
    },
    {
      "cell_type": "code",
      "metadata": {
        "id": "AJhNEA7NWexZ"
      },
      "source": [
        "u_interp_coarse.set_allow_extrapolation(True)\n",
        "Error = errornorm(u_fine,u_interp_coarse)\n",
        "Relativeerror = Error/norm(u_fine)"
      ],
      "execution_count": 37,
      "outputs": []
    },
    {
      "cell_type": "markdown",
      "metadata": {
        "id": "g0M4mRF_pVH-"
      },
      "source": [
        "## Step 8b. Loading and plotting the results"
      ]
    },
    {
      "cell_type": "markdown",
      "metadata": {
        "id": "k9T35z1FVHuq"
      },
      "source": [
        "The following briefly demonstrates how to load the results from the Google Drive and compare against the analytical solution. Note that the domain is assumed to be infinite so that the analyical solution is known.\n",
        "\n",
        "> Do not simply copy and paste the following plots for your report as the following is demonstrative only."
      ]
    },
    {
      "cell_type": "code",
      "metadata": {
        "id": "CyWLDVClhVLX"
      },
      "source": [
        "# we define a fine set of horizontal coordinates\n",
        "x_fine = np.linspace(r+0.01,L,1000)\n",
        "# we define the analytical prediction for sigma_xx for the infinite plate case\n",
        "stress_xx_theoretical=np.ones(x_fine.shape[0])-5*r*r/(2*np.power(x_fine,2))+3*np.power(r,4)/(2*np.power(x_fine,4))"
      ],
      "execution_count": 38,
      "outputs": []
    },
    {
      "cell_type": "code",
      "metadata": {
        "id": "n0U5HYIwi1W4",
        "colab": {
          "base_uri": "https://localhost:8080/",
          "height": 312
        },
        "outputId": "a419de77-7345-497a-9418-e60b0c89318f"
      },
      "source": [
        "# we plot the analytical solution and the finite element simulation for the rescaled sigma_xx along the bottom boundary of the domain (y=0)\n",
        "stress_xx = np.loadtxt(\"stress-xx.txt\")\n",
        "stress_yy = np.loadtxt(\"stress-yy.txt\")\n",
        "plt.plot(stress_xx[0],stress_xx[1],'bo',label=\"finite element result: sigma_xx/sigma0\")\n",
        "plt.plot(x_fine,stress_xx_theoretical,'r-',label=\"theoretical infinite plate prediction\")\n",
        "plt.ylabel(\"rescaled stress\")\n",
        "plt.xlabel(\"distance center of the hole (mm)\")\n",
        "plt.title(\"rescaled stress profile at y=0\")\n",
        "plt.legend()"
      ],
      "execution_count": 39,
      "outputs": [
        {
          "output_type": "execute_result",
          "data": {
            "text/plain": [
              "<matplotlib.legend.Legend at 0x7fda15ff5710>"
            ]
          },
          "metadata": {},
          "execution_count": 39
        },
        {
          "output_type": "display_data",
          "data": {
            "image/png": "[encoded data removed]",
            "text/plain": [
              "<Figure size 432x288 with 1 Axes>"
            ]
          },
          "metadata": {
            "needs_background": "light"
          }
        }
      ]
    }
  ]
}